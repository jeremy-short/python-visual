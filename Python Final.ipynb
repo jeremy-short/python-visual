{
 "cells": [
  {
   "cell_type": "markdown",
   "metadata": {},
   "source": [
    "# Python Final\n",
    "Jeremy Short"
   ]
  },
  {
   "cell_type": "markdown",
   "metadata": {},
   "source": [
    "Import Required Modules"
   ]
  },
  {
   "cell_type": "code",
   "execution_count": 160,
   "metadata": {},
   "outputs": [],
   "source": [
    "import pandas as pd\n",
    "import numpy as np\n",
    "import scipy.stats as st\n",
    "import statsmodels.formula.api as smf\n",
    "import statsmodels.api as sm\n",
    "import matplotlib.pyplot as plt\n",
    "import seaborn as sns\n",
    "from statsmodels.formula.api import ols\n",
    "from sklearn import datasets, linear_model\n",
    "from sklearn.metrics import mean_squared_error, r2_score\n",
    "from sklearn.model_selection import train_test_split  \n",
    "from sklearn.neighbors import KNeighborsClassifier \n",
    "from sklearn import metrics"
   ]
  },
  {
   "cell_type": "markdown",
   "metadata": {},
   "source": [
    "### 1. Predict Market Value Using Linear Regression"
   ]
  },
  {
   "cell_type": "code",
   "execution_count": 3,
   "metadata": {},
   "outputs": [],
   "source": [
    "# Read the GlenCove.xlsx file into a Data frame\n",
    "glencove = pd.read_excel('GlenCove.xlsx')"
   ]
  },
  {
   "cell_type": "code",
   "execution_count": 6,
   "metadata": {},
   "outputs": [
    {
     "data": {
      "text/html": [
       "<div>\n",
       "<style scoped>\n",
       "    .dataframe tbody tr th:only-of-type {\n",
       "        vertical-align: middle;\n",
       "    }\n",
       "\n",
       "    .dataframe tbody tr th {\n",
       "        vertical-align: top;\n",
       "    }\n",
       "\n",
       "    .dataframe thead th {\n",
       "        text-align: right;\n",
       "    }\n",
       "</style>\n",
       "<table border=\"1\" class=\"dataframe\">\n",
       "  <thead>\n",
       "    <tr style=\"text-align: right;\">\n",
       "      <th></th>\n",
       "      <th>Address</th>\n",
       "      <th>Fair Market Value($000)</th>\n",
       "      <th>Property Size (acres)</th>\n",
       "      <th>Age</th>\n",
       "      <th>House Size (square feet)</th>\n",
       "      <th>Rooms</th>\n",
       "      <th>Baths</th>\n",
       "      <th>Garage</th>\n",
       "    </tr>\n",
       "  </thead>\n",
       "  <tbody>\n",
       "    <tr>\n",
       "      <th>0</th>\n",
       "      <td>9 Sycamore Road</td>\n",
       "      <td>522.9</td>\n",
       "      <td>0.2297</td>\n",
       "      <td>56</td>\n",
       "      <td>2448</td>\n",
       "      <td>7</td>\n",
       "      <td>3.5</td>\n",
       "      <td>2</td>\n",
       "    </tr>\n",
       "    <tr>\n",
       "      <th>1</th>\n",
       "      <td>21 Jefferson St</td>\n",
       "      <td>425.0</td>\n",
       "      <td>0.2192</td>\n",
       "      <td>61</td>\n",
       "      <td>1942</td>\n",
       "      <td>7</td>\n",
       "      <td>2.5</td>\n",
       "      <td>1</td>\n",
       "    </tr>\n",
       "    <tr>\n",
       "      <th>2</th>\n",
       "      <td>38 Hitching Post Lane</td>\n",
       "      <td>539.2</td>\n",
       "      <td>0.1630</td>\n",
       "      <td>39</td>\n",
       "      <td>2073</td>\n",
       "      <td>5</td>\n",
       "      <td>3.0</td>\n",
       "      <td>2</td>\n",
       "    </tr>\n",
       "    <tr>\n",
       "      <th>3</th>\n",
       "      <td>4 Poppy Lane</td>\n",
       "      <td>628.2</td>\n",
       "      <td>0.4608</td>\n",
       "      <td>28</td>\n",
       "      <td>2707</td>\n",
       "      <td>8</td>\n",
       "      <td>2.5</td>\n",
       "      <td>1</td>\n",
       "    </tr>\n",
       "    <tr>\n",
       "      <th>4</th>\n",
       "      <td>5 Daniel Drive</td>\n",
       "      <td>490.4</td>\n",
       "      <td>0.2549</td>\n",
       "      <td>56</td>\n",
       "      <td>2042</td>\n",
       "      <td>7</td>\n",
       "      <td>1.5</td>\n",
       "      <td>1</td>\n",
       "    </tr>\n",
       "    <tr>\n",
       "      <th>5</th>\n",
       "      <td>15 Francis Terrace</td>\n",
       "      <td>487.7</td>\n",
       "      <td>0.2290</td>\n",
       "      <td>98</td>\n",
       "      <td>2089</td>\n",
       "      <td>7</td>\n",
       "      <td>2.0</td>\n",
       "      <td>0</td>\n",
       "    </tr>\n",
       "    <tr>\n",
       "      <th>6</th>\n",
       "      <td>23 Guilfoy Street</td>\n",
       "      <td>370.3</td>\n",
       "      <td>0.1808</td>\n",
       "      <td>58</td>\n",
       "      <td>1433</td>\n",
       "      <td>7</td>\n",
       "      <td>2.0</td>\n",
       "      <td>0</td>\n",
       "    </tr>\n",
       "    <tr>\n",
       "      <th>7</th>\n",
       "      <td>17 Carlyle Drive</td>\n",
       "      <td>777.9</td>\n",
       "      <td>0.5015</td>\n",
       "      <td>17</td>\n",
       "      <td>2991</td>\n",
       "      <td>9</td>\n",
       "      <td>2.5</td>\n",
       "      <td>1</td>\n",
       "    </tr>\n",
       "    <tr>\n",
       "      <th>8</th>\n",
       "      <td>8 Craft Avenue</td>\n",
       "      <td>347.1</td>\n",
       "      <td>0.2229</td>\n",
       "      <td>62</td>\n",
       "      <td>1008</td>\n",
       "      <td>5</td>\n",
       "      <td>1.0</td>\n",
       "      <td>0</td>\n",
       "    </tr>\n",
       "    <tr>\n",
       "      <th>9</th>\n",
       "      <td>22 Beechwood Ct.</td>\n",
       "      <td>756.8</td>\n",
       "      <td>0.1300</td>\n",
       "      <td>25</td>\n",
       "      <td>3202</td>\n",
       "      <td>8</td>\n",
       "      <td>2.5</td>\n",
       "      <td>2</td>\n",
       "    </tr>\n",
       "  </tbody>\n",
       "</table>\n",
       "</div>"
      ],
      "text/plain": [
       "                 Address  Fair Market Value($000)  Property Size (acres)  Age  \\\n",
       "0        9 Sycamore Road                    522.9                 0.2297   56   \n",
       "1        21 Jefferson St                    425.0                 0.2192   61   \n",
       "2  38 Hitching Post Lane                    539.2                 0.1630   39   \n",
       "3           4 Poppy Lane                    628.2                 0.4608   28   \n",
       "4         5 Daniel Drive                    490.4                 0.2549   56   \n",
       "5     15 Francis Terrace                    487.7                 0.2290   98   \n",
       "6      23 Guilfoy Street                    370.3                 0.1808   58   \n",
       "7       17 Carlyle Drive                    777.9                 0.5015   17   \n",
       "8         8 Craft Avenue                    347.1                 0.2229   62   \n",
       "9       22 Beechwood Ct.                    756.8                 0.1300   25   \n",
       "\n",
       "   House Size (square feet)  Rooms  Baths  Garage  \n",
       "0                      2448      7    3.5       2  \n",
       "1                      1942      7    2.5       1  \n",
       "2                      2073      5    3.0       2  \n",
       "3                      2707      8    2.5       1  \n",
       "4                      2042      7    1.5       1  \n",
       "5                      2089      7    2.0       0  \n",
       "6                      1433      7    2.0       0  \n",
       "7                      2991      9    2.5       1  \n",
       "8                      1008      5    1.0       0  \n",
       "9                      3202      8    2.5       2  "
      ]
     },
     "execution_count": 6,
     "metadata": {},
     "output_type": "execute_result"
    }
   ],
   "source": [
    "# Print the first 10 rows to get a feel for the data\n",
    "glencove.head(10)"
   ]
  },
  {
   "cell_type": "code",
   "execution_count": 31,
   "metadata": {},
   "outputs": [],
   "source": [
    "# Rename columns that have problematic names\n",
    "glencove.rename(columns ={'Fair Market Value($000)':'market_value',\n",
    "                          'Property Size (acres)':'property_size', \n",
    "                          'House Size (square feet)':'house_size'}, inplace = True)"
   ]
  },
  {
   "cell_type": "code",
   "execution_count": 32,
   "metadata": {},
   "outputs": [],
   "source": [
    "# Remove the age column in the new data frame\n",
    "glencove1 = glencove.drop(columns =['Age'])\n",
    "\n",
    "# Equation to replace the garage value with 1 and 0\n",
    "f = lambda x: 0 if x<1 else 1\n",
    "\n",
    "# Using the above equation to replace the garage values\n",
    "glencove1['Garage']= glencove1['Garage'].map(f)"
   ]
  },
  {
   "cell_type": "code",
   "execution_count": 33,
   "metadata": {},
   "outputs": [
    {
     "name": "stdout",
     "output_type": "stream",
     "text": [
      "       market_value  property_size   house_size      Rooms      Baths  \\\n",
      "count     30.000000      30.000000    30.000000  30.000000  30.000000   \n",
      "mean     474.910000       0.275960  1978.833333   6.833333   2.000000   \n",
      "std      144.312669       0.236445   550.875234   1.487496   0.694808   \n",
      "min      310.200000       0.085200  1008.000000   5.000000   1.000000   \n",
      "25%      374.675000       0.152650  1622.250000   6.000000   1.625000   \n",
      "50%      431.200000       0.204050  1992.000000   7.000000   2.000000   \n",
      "75%      535.125000       0.270350  2205.500000   7.750000   2.500000   \n",
      "max      889.000000       1.310000  3202.000000  11.000000   3.500000   \n",
      "\n",
      "          Garage  \n",
      "count  30.000000  \n",
      "mean    0.566667  \n",
      "std     0.504007  \n",
      "min     0.000000  \n",
      "25%     0.000000  \n",
      "50%     1.000000  \n",
      "75%     1.000000  \n",
      "max     1.000000  \n"
     ]
    }
   ],
   "source": [
    "# View summary statistics for the new data set\n",
    "print(glencove1.describe())"
   ]
  },
  {
   "cell_type": "code",
   "execution_count": 38,
   "metadata": {},
   "outputs": [
    {
     "name": "stdout",
     "output_type": "stream",
     "text": [
      "               property_size  house_size     Rooms     Baths\n",
      "property_size       1.000000    0.211664  0.052963  0.053408\n",
      "house_size          0.211664    1.000000  0.399573  0.521314\n",
      "Rooms               0.052963    0.399573  1.000000  0.133457\n",
      "Baths               0.053408    0.521314  0.133457  1.000000\n"
     ]
    }
   ],
   "source": [
    "# Create a correlation matrix from the selected variables\n",
    "print(glencove1[['property_size','house_size','Rooms','Baths']].corr())"
   ]
  },
  {
   "cell_type": "markdown",
   "metadata": {},
   "source": [
    "Property_Size has a weak positive (sloping up and to the right) correlation with house_size and nearly no correlation or a very weak positive (sloping up and to the right) with Rooms and Baths.\n",
    "\n",
    "House_size has a weak positive (sloping up and to the right) correlation with property_size and rooms while it has a moderate positive (sloping up and to the right) correlation with Baths.\n",
    "\n",
    "Rooms has a weak positive (sloping up and to the right) or no correlation with property_size and Baths, and a weak positive (sloping up and to the right)correlation with house_size. \n",
    "\n",
    "Baths has a weak positive (sloping up and to the right)correlation with property_size and Rooms, and a moderate positive (sloping up and to the right) correlation with house_size.\n"
   ]
  },
  {
   "cell_type": "code",
   "execution_count": 39,
   "metadata": {},
   "outputs": [],
   "source": [
    "# Fit the data set to a linear regression model using market_value as the target variable and \n",
    "# all other variables as predictors variables.\n",
    "model = ols('market_value ~ property_size + house_size + Rooms + Baths + Garage', glencove1).fit()"
   ]
  },
  {
   "cell_type": "code",
   "execution_count": 40,
   "metadata": {},
   "outputs": [
    {
     "name": "stdout",
     "output_type": "stream",
     "text": [
      "                            OLS Regression Results                            \n",
      "==============================================================================\n",
      "Dep. Variable:           market_value   R-squared:                       0.815\n",
      "Model:                            OLS   Adj. R-squared:                  0.776\n",
      "Method:                 Least Squares   F-statistic:                     21.09\n",
      "Date:                Sat, 10 Oct 2020   Prob (F-statistic):           4.52e-08\n",
      "Time:                        12:44:00   Log-Likelihood:                -165.94\n",
      "No. Observations:                  30   AIC:                             343.9\n",
      "Df Residuals:                      24   BIC:                             352.3\n",
      "Df Model:                           5                                         \n",
      "Covariance Type:            nonrobust                                         \n",
      "=================================================================================\n",
      "                    coef    std err          t      P>|t|      [0.025      0.975]\n",
      "---------------------------------------------------------------------------------\n",
      "Intercept        78.0523     67.779      1.152      0.261     -61.837     217.942\n",
      "property_size   359.3104     56.919      6.313      0.000     241.836     476.785\n",
      "house_size        0.1025      0.033      3.117      0.005       0.035       0.170\n",
      "Rooms             0.7385      9.667      0.076      0.940     -19.214      20.691\n",
      "Baths            36.8445     21.904      1.682      0.106      -8.363      82.052\n",
      "Garage           28.3802     31.716      0.895      0.380     -37.078      93.839\n",
      "==============================================================================\n",
      "Omnibus:                        4.370   Durbin-Watson:                   1.619\n",
      "Prob(Omnibus):                  0.112   Jarque-Bera (JB):                2.767\n",
      "Skew:                           0.569   Prob(JB):                        0.251\n",
      "Kurtosis:                       3.958   Cond. No.                     1.15e+04\n",
      "==============================================================================\n",
      "\n",
      "Warnings:\n",
      "[1] Standard Errors assume that the covariance matrix of the errors is correctly specified.\n",
      "[2] The condition number is large, 1.15e+04. This might indicate that there are\n",
      "strong multicollinearity or other numerical problems.\n"
     ]
    }
   ],
   "source": [
    "# Print the model summary\n",
    "print(model.summary())"
   ]
  },
  {
   "cell_type": "code",
   "execution_count": 41,
   "metadata": {},
   "outputs": [],
   "source": [
    "#Create Anova table\n",
    "anova1 = sm.stats.anova_lm(model, typ=2)"
   ]
  },
  {
   "cell_type": "code",
   "execution_count": 42,
   "metadata": {},
   "outputs": [
    {
     "name": "stdout",
     "output_type": "stream",
     "text": [
      "                      sum_sq    df          F    PR(>F)\n",
      "property_size  185956.980096   1.0  39.850226  0.000002\n",
      "house_size      45335.829171   1.0   9.715382  0.004693\n",
      "Rooms              27.229339   1.0   0.005835  0.939743\n",
      "Baths           13203.326340   1.0   2.829448  0.105518\n",
      "Garage           3736.437085   1.0   0.800711  0.379768\n",
      "Residual       111993.529961  24.0        NaN       NaN\n"
     ]
    }
   ],
   "source": [
    "#Print Anova table\n",
    "print(anova1)"
   ]
  },
  {
   "cell_type": "markdown",
   "metadata": {},
   "source": [
    "Model Interpretation\n",
    "\n",
    "I think that this is a good model since it has a decently high adjusted R2 score at 0.776 meaning that 77.6% of the variance can be explained by the model. I also think that this is a good model sinc the AIC and BAC scores are relatively low and lower values are more desireable for these measures."
   ]
  },
  {
   "cell_type": "markdown",
   "metadata": {},
   "source": [
    "Linear Regression Equation\n",
    "\n",
    "Y = 78.0523 + 359.3104(property_size) + 0.1025(house_size) + 0.7385(Rooms) + 36.8445(Baths) + 28.3802(Garage)"
   ]
  },
  {
   "cell_type": "code",
   "execution_count": 44,
   "metadata": {},
   "outputs": [
    {
     "data": {
      "text/plain": [
       "0    497.40068\n",
       "dtype: float64"
      ]
     },
     "execution_count": 44,
     "metadata": {},
     "output_type": "execute_result"
    }
   ],
   "source": [
    "# Predict the fiar market value of a house that is 2000 sqft, on 0.30 acres, with 6 rooms, 2 bathrooms, and a garage.\n",
    "model.predict({'property_size':0.30,'house_size':2000,'Rooms':6, 'Baths':2,'Garage':1})"
   ]
  },
  {
   "cell_type": "markdown",
   "metadata": {},
   "source": [
    "### 3. Distribution of Values of NBA Franchises "
   ]
  },
  {
   "cell_type": "code",
   "execution_count": 67,
   "metadata": {},
   "outputs": [
    {
     "data": {
      "text/html": [
       "<div>\n",
       "<style scoped>\n",
       "    .dataframe tbody tr th:only-of-type {\n",
       "        vertical-align: middle;\n",
       "    }\n",
       "\n",
       "    .dataframe tbody tr th {\n",
       "        vertical-align: top;\n",
       "    }\n",
       "\n",
       "    .dataframe thead th {\n",
       "        text-align: right;\n",
       "    }\n",
       "</style>\n",
       "<table border=\"1\" class=\"dataframe\">\n",
       "  <thead>\n",
       "    <tr style=\"text-align: right;\">\n",
       "      <th></th>\n",
       "      <th>Team Name</th>\n",
       "      <th>Team Code</th>\n",
       "      <th>Revenue ($mil)</th>\n",
       "      <th>Current Value ($mil)</th>\n",
       "    </tr>\n",
       "  </thead>\n",
       "  <tbody>\n",
       "    <tr>\n",
       "      <th>0</th>\n",
       "      <td>Atlanta Hawks</td>\n",
       "      <td>ATL</td>\n",
       "      <td>133</td>\n",
       "      <td>825</td>\n",
       "    </tr>\n",
       "    <tr>\n",
       "      <th>1</th>\n",
       "      <td>Boston Celtics</td>\n",
       "      <td>BOS</td>\n",
       "      <td>173</td>\n",
       "      <td>1700</td>\n",
       "    </tr>\n",
       "    <tr>\n",
       "      <th>2</th>\n",
       "      <td>Brooklyn Nets</td>\n",
       "      <td>BKN</td>\n",
       "      <td>212</td>\n",
       "      <td>1500</td>\n",
       "    </tr>\n",
       "    <tr>\n",
       "      <th>3</th>\n",
       "      <td>Charlotte Bobcats</td>\n",
       "      <td>CHA</td>\n",
       "      <td>130</td>\n",
       "      <td>725</td>\n",
       "    </tr>\n",
       "    <tr>\n",
       "      <th>4</th>\n",
       "      <td>Chicago Bulls</td>\n",
       "      <td>CHI</td>\n",
       "      <td>201</td>\n",
       "      <td>2000</td>\n",
       "    </tr>\n",
       "    <tr>\n",
       "      <th>5</th>\n",
       "      <td>Cleveland Cavaliers</td>\n",
       "      <td>CLE</td>\n",
       "      <td>149</td>\n",
       "      <td>915</td>\n",
       "    </tr>\n",
       "    <tr>\n",
       "      <th>6</th>\n",
       "      <td>Dallas Mavericks</td>\n",
       "      <td>DAL</td>\n",
       "      <td>168</td>\n",
       "      <td>1150</td>\n",
       "    </tr>\n",
       "    <tr>\n",
       "      <th>7</th>\n",
       "      <td>Denver Nuggets</td>\n",
       "      <td>DEN</td>\n",
       "      <td>136</td>\n",
       "      <td>855</td>\n",
       "    </tr>\n",
       "    <tr>\n",
       "      <th>8</th>\n",
       "      <td>Detroit Pistons</td>\n",
       "      <td>DET</td>\n",
       "      <td>144</td>\n",
       "      <td>810</td>\n",
       "    </tr>\n",
       "    <tr>\n",
       "      <th>9</th>\n",
       "      <td>Golden State Warriors</td>\n",
       "      <td>GSW</td>\n",
       "      <td>168</td>\n",
       "      <td>1300</td>\n",
       "    </tr>\n",
       "    <tr>\n",
       "      <th>10</th>\n",
       "      <td>Houston Rockets</td>\n",
       "      <td>HOU</td>\n",
       "      <td>175</td>\n",
       "      <td>1250</td>\n",
       "    </tr>\n",
       "    <tr>\n",
       "      <th>11</th>\n",
       "      <td>Indiana Pacers</td>\n",
       "      <td>IND</td>\n",
       "      <td>149</td>\n",
       "      <td>830</td>\n",
       "    </tr>\n",
       "    <tr>\n",
       "      <th>12</th>\n",
       "      <td>Los Angeles Clippers</td>\n",
       "      <td>LAC</td>\n",
       "      <td>146</td>\n",
       "      <td>1600</td>\n",
       "    </tr>\n",
       "    <tr>\n",
       "      <th>13</th>\n",
       "      <td>Los Angeles Lakers</td>\n",
       "      <td>LAL</td>\n",
       "      <td>293</td>\n",
       "      <td>2600</td>\n",
       "    </tr>\n",
       "    <tr>\n",
       "      <th>14</th>\n",
       "      <td>Memphis Grizzlies</td>\n",
       "      <td>MEM</td>\n",
       "      <td>135</td>\n",
       "      <td>750</td>\n",
       "    </tr>\n",
       "    <tr>\n",
       "      <th>15</th>\n",
       "      <td>Miami Heat</td>\n",
       "      <td>MIA</td>\n",
       "      <td>188</td>\n",
       "      <td>1175</td>\n",
       "    </tr>\n",
       "    <tr>\n",
       "      <th>16</th>\n",
       "      <td>Milwaukee Bucks</td>\n",
       "      <td>MIL</td>\n",
       "      <td>110</td>\n",
       "      <td>600</td>\n",
       "    </tr>\n",
       "    <tr>\n",
       "      <th>17</th>\n",
       "      <td>Minnesota Timberwolves</td>\n",
       "      <td>MIN</td>\n",
       "      <td>128</td>\n",
       "      <td>625</td>\n",
       "    </tr>\n",
       "    <tr>\n",
       "      <th>18</th>\n",
       "      <td>New Orleans Pelicans</td>\n",
       "      <td>NOH</td>\n",
       "      <td>131</td>\n",
       "      <td>650</td>\n",
       "    </tr>\n",
       "    <tr>\n",
       "      <th>19</th>\n",
       "      <td>New York Knicks</td>\n",
       "      <td>NYK</td>\n",
       "      <td>278</td>\n",
       "      <td>2500</td>\n",
       "    </tr>\n",
       "    <tr>\n",
       "      <th>20</th>\n",
       "      <td>Oklahoma City Thunder</td>\n",
       "      <td>OKC</td>\n",
       "      <td>152</td>\n",
       "      <td>930</td>\n",
       "    </tr>\n",
       "    <tr>\n",
       "      <th>21</th>\n",
       "      <td>Orlando Magic</td>\n",
       "      <td>ORL</td>\n",
       "      <td>143</td>\n",
       "      <td>875</td>\n",
       "    </tr>\n",
       "    <tr>\n",
       "      <th>22</th>\n",
       "      <td>Philadelphia 76ers</td>\n",
       "      <td>PHI</td>\n",
       "      <td>125</td>\n",
       "      <td>700</td>\n",
       "    </tr>\n",
       "    <tr>\n",
       "      <th>23</th>\n",
       "      <td>Phoenix Suns</td>\n",
       "      <td>PHX</td>\n",
       "      <td>145</td>\n",
       "      <td>910</td>\n",
       "    </tr>\n",
       "    <tr>\n",
       "      <th>24</th>\n",
       "      <td>Portland Trail Blazers</td>\n",
       "      <td>POR</td>\n",
       "      <td>153</td>\n",
       "      <td>940</td>\n",
       "    </tr>\n",
       "    <tr>\n",
       "      <th>25</th>\n",
       "      <td>Sacramento Kings</td>\n",
       "      <td>SAC</td>\n",
       "      <td>125</td>\n",
       "      <td>800</td>\n",
       "    </tr>\n",
       "    <tr>\n",
       "      <th>26</th>\n",
       "      <td>San Antonio Spurs</td>\n",
       "      <td>SAS</td>\n",
       "      <td>174</td>\n",
       "      <td>1000</td>\n",
       "    </tr>\n",
       "    <tr>\n",
       "      <th>27</th>\n",
       "      <td>Toronto Raptors</td>\n",
       "      <td>TOR</td>\n",
       "      <td>151</td>\n",
       "      <td>920</td>\n",
       "    </tr>\n",
       "    <tr>\n",
       "      <th>28</th>\n",
       "      <td>Utah Jazz</td>\n",
       "      <td>UTA</td>\n",
       "      <td>142</td>\n",
       "      <td>830</td>\n",
       "    </tr>\n",
       "    <tr>\n",
       "      <th>29</th>\n",
       "      <td>Washington Wizards</td>\n",
       "      <td>WAS</td>\n",
       "      <td>143</td>\n",
       "      <td>900</td>\n",
       "    </tr>\n",
       "  </tbody>\n",
       "</table>\n",
       "</div>"
      ],
      "text/plain": [
       "                 Team Name Team Code  Revenue ($mil)   Current Value ($mil) \n",
       "0            Atlanta Hawks       ATL              133                    825\n",
       "1           Boston Celtics       BOS              173                   1700\n",
       "2            Brooklyn Nets       BKN              212                   1500\n",
       "3        Charlotte Bobcats       CHA              130                    725\n",
       "4            Chicago Bulls       CHI              201                   2000\n",
       "5      Cleveland Cavaliers       CLE              149                    915\n",
       "6         Dallas Mavericks       DAL              168                   1150\n",
       "7           Denver Nuggets       DEN              136                    855\n",
       "8          Detroit Pistons       DET              144                    810\n",
       "9    Golden State Warriors       GSW              168                   1300\n",
       "10         Houston Rockets       HOU              175                   1250\n",
       "11          Indiana Pacers       IND              149                    830\n",
       "12    Los Angeles Clippers       LAC              146                   1600\n",
       "13      Los Angeles Lakers       LAL              293                   2600\n",
       "14       Memphis Grizzlies       MEM              135                    750\n",
       "15              Miami Heat       MIA              188                   1175\n",
       "16         Milwaukee Bucks       MIL              110                    600\n",
       "17  Minnesota Timberwolves       MIN              128                    625\n",
       "18    New Orleans Pelicans       NOH              131                    650\n",
       "19         New York Knicks       NYK              278                   2500\n",
       "20   Oklahoma City Thunder       OKC              152                    930\n",
       "21           Orlando Magic       ORL              143                    875\n",
       "22      Philadelphia 76ers       PHI              125                    700\n",
       "23            Phoenix Suns       PHX              145                    910\n",
       "24  Portland Trail Blazers       POR              153                    940\n",
       "25        Sacramento Kings       SAC              125                    800\n",
       "26       San Antonio Spurs       SAS              174                   1000\n",
       "27         Toronto Raptors       TOR              151                    920\n",
       "28               Utah Jazz       UTA              142                    830\n",
       "29      Washington Wizards       WAS              143                    900"
      ]
     },
     "execution_count": 67,
     "metadata": {},
     "output_type": "execute_result"
    }
   ],
   "source": [
    "# Import the baseball_values.xlsx file into a data frame\n",
    "NBAv = pd.read_excel('NBAValues.xlsx')\n",
    "\n",
    "# Show the entire data frame\n",
    "NBAv"
   ]
  },
  {
   "cell_type": "code",
   "execution_count": null,
   "metadata": {},
   "outputs": [],
   "source": [
    "# Creating Histograms"
   ]
  },
  {
   "cell_type": "code",
   "execution_count": 63,
   "metadata": {},
   "outputs": [
    {
     "data": {
      "text/plain": [
       "Text(0, 0.5, 'Frequency')"
      ]
     },
     "execution_count": 63,
     "metadata": {},
     "output_type": "execute_result"
    },
    {
     "data": {
      "image/png": "[encoded data removed]",
      "text/plain": [
       "<Figure size 432x288 with 1 Axes>"
      ]
     },
     "metadata": {
      "needs_background": "light"
     },
     "output_type": "display_data"
    }
   ],
   "source": [
    "plt.hist(NBAv['Current Value ($mil) '], bins=10, color ='g')\n",
    "plt.title('Current Value Histogram with 10 Bins', fontsize = 16)\n",
    "plt.xlabel('Current Value ($mil)', fontsize = 10)\n",
    "plt.ylabel('Frequency', fontsize = 10)"
   ]
  },
  {
   "cell_type": "code",
   "execution_count": 64,
   "metadata": {},
   "outputs": [
    {
     "data": {
      "text/plain": [
       "Text(0, 0.5, 'Frequency')"
      ]
     },
     "execution_count": 64,
     "metadata": {},
     "output_type": "execute_result"
    },
    {
     "data": {
      "image/png": "[encoded data removed]",
      "text/plain": [
       "<Figure size 432x288 with 1 Axes>"
      ]
     },
     "metadata": {
      "needs_background": "light"
     },
     "output_type": "display_data"
    }
   ],
   "source": [
    "plt.hist(NBAv['Current Value ($mil) '], bins=4, color ='b')\n",
    "plt.title('Current Value Histogram with 4 Bins', fontsize = 16)\n",
    "plt.xlabel('Current Value ($mil)', fontsize = 10)\n",
    "plt.ylabel('Frequency', fontsize = 10)"
   ]
  },
  {
   "cell_type": "code",
   "execution_count": 68,
   "metadata": {},
   "outputs": [
    {
     "data": {
      "text/plain": [
       "Text(0, 0.5, 'Frequency')"
      ]
     },
     "execution_count": 68,
     "metadata": {},
     "output_type": "execute_result"
    },
    {
     "data": {
      "image/png": "[encoded data removed]",
      "text/plain": [
       "<Figure size 432x288 with 1 Axes>"
      ]
     },
     "metadata": {
      "needs_background": "light"
     },
     "output_type": "display_data"
    }
   ],
   "source": [
    "plt.hist(NBAv['Current Value ($mil) '], bins=5, color ='r')\n",
    "plt.title('Current Value Histogram with 5 Bins', fontsize = 16)\n",
    "plt.xlabel('Current Value ($mil)', fontsize = 10)\n",
    "plt.ylabel('Frequency', fontsize = 10)"
   ]
  },
  {
   "cell_type": "code",
   "execution_count": 70,
   "metadata": {},
   "outputs": [
    {
     "data": {
      "text/plain": [
       "Text(0, 0.5, 'Frequency')"
      ]
     },
     "execution_count": 70,
     "metadata": {},
     "output_type": "execute_result"
    },
    {
     "data": {
      "image/png": "[encoded data removed]",
      "text/plain": [
       "<Figure size 432x288 with 1 Axes>"
      ]
     },
     "metadata": {
      "needs_background": "light"
     },
     "output_type": "display_data"
    }
   ],
   "source": [
    "plt.hist(NBAv['Current Value ($mil) '], bins=6, color ='m')\n",
    "plt.title('Current Value Histogram with 6 Bins', fontsize = 16)\n",
    "plt.xlabel('Current Value ($mil)', fontsize = 10)\n",
    "plt.ylabel('Frequency', fontsize = 10)"
   ]
  },
  {
   "cell_type": "markdown",
   "metadata": {},
   "source": [
    "Best number of Bins\n",
    "\n",
    "I think that the best number of bins for this data set is 6 since it displays the data wiht no breaks and does a good\n",
    "job of showing the general shape of the distribution. It also meets the standard rule of taking the square root of the number of obeservations and using that number of bins, at 30 observations the optimal number of bins would be between\n",
    "5 and 6."
   ]
  },
  {
   "cell_type": "markdown",
   "metadata": {},
   "source": [
    "Description of the shape\n",
    "\n",
    "The data is right skewed, meaning that there is a longer tail to the right of the data set with the highest frenquency of obersrvations occuring on the the left."
   ]
  },
  {
   "cell_type": "markdown",
   "metadata": {},
   "source": [
    "### Distribution of Values of MLB Teams"
   ]
  },
  {
   "cell_type": "code",
   "execution_count": 75,
   "metadata": {},
   "outputs": [
    {
     "data": {
      "text/html": [
       "<div>\n",
       "<style scoped>\n",
       "    .dataframe tbody tr th:only-of-type {\n",
       "        vertical-align: middle;\n",
       "    }\n",
       "\n",
       "    .dataframe tbody tr th {\n",
       "        vertical-align: top;\n",
       "    }\n",
       "\n",
       "    .dataframe thead th {\n",
       "        text-align: right;\n",
       "    }\n",
       "</style>\n",
       "<table border=\"1\" class=\"dataframe\">\n",
       "  <thead>\n",
       "    <tr style=\"text-align: right;\">\n",
       "      <th></th>\n",
       "      <th>Team</th>\n",
       "      <th>Revenue</th>\n",
       "      <th>Value</th>\n",
       "    </tr>\n",
       "  </thead>\n",
       "  <tbody>\n",
       "    <tr>\n",
       "      <th>0</th>\n",
       "      <td>Baltimore</td>\n",
       "      <td>245</td>\n",
       "      <td>1000</td>\n",
       "    </tr>\n",
       "    <tr>\n",
       "      <th>1</th>\n",
       "      <td>Boston</td>\n",
       "      <td>370</td>\n",
       "      <td>2100</td>\n",
       "    </tr>\n",
       "    <tr>\n",
       "      <th>2</th>\n",
       "      <td>Chicago White Sox</td>\n",
       "      <td>227</td>\n",
       "      <td>975</td>\n",
       "    </tr>\n",
       "    <tr>\n",
       "      <th>3</th>\n",
       "      <td>Cleveland</td>\n",
       "      <td>207</td>\n",
       "      <td>825</td>\n",
       "    </tr>\n",
       "    <tr>\n",
       "      <th>4</th>\n",
       "      <td>Detroit</td>\n",
       "      <td>254</td>\n",
       "      <td>1125</td>\n",
       "    </tr>\n",
       "    <tr>\n",
       "      <th>5</th>\n",
       "      <td>Houston</td>\n",
       "      <td>175</td>\n",
       "      <td>800</td>\n",
       "    </tr>\n",
       "    <tr>\n",
       "      <th>6</th>\n",
       "      <td>Kansas City</td>\n",
       "      <td>231</td>\n",
       "      <td>700</td>\n",
       "    </tr>\n",
       "    <tr>\n",
       "      <th>7</th>\n",
       "      <td>Los Angeles Angels</td>\n",
       "      <td>304</td>\n",
       "      <td>1300</td>\n",
       "    </tr>\n",
       "    <tr>\n",
       "      <th>8</th>\n",
       "      <td>Minnesota</td>\n",
       "      <td>223</td>\n",
       "      <td>895</td>\n",
       "    </tr>\n",
       "    <tr>\n",
       "      <th>9</th>\n",
       "      <td>New York Yankees</td>\n",
       "      <td>508</td>\n",
       "      <td>3200</td>\n",
       "    </tr>\n",
       "    <tr>\n",
       "      <th>10</th>\n",
       "      <td>Oakland</td>\n",
       "      <td>202</td>\n",
       "      <td>725</td>\n",
       "    </tr>\n",
       "    <tr>\n",
       "      <th>11</th>\n",
       "      <td>Seattle</td>\n",
       "      <td>250</td>\n",
       "      <td>1100</td>\n",
       "    </tr>\n",
       "    <tr>\n",
       "      <th>12</th>\n",
       "      <td>Tampa Bay</td>\n",
       "      <td>188</td>\n",
       "      <td>625</td>\n",
       "    </tr>\n",
       "    <tr>\n",
       "      <th>13</th>\n",
       "      <td>Texas</td>\n",
       "      <td>266</td>\n",
       "      <td>1220</td>\n",
       "    </tr>\n",
       "    <tr>\n",
       "      <th>14</th>\n",
       "      <td>Toronto</td>\n",
       "      <td>226</td>\n",
       "      <td>870</td>\n",
       "    </tr>\n",
       "    <tr>\n",
       "      <th>15</th>\n",
       "      <td>Arizona</td>\n",
       "      <td>211</td>\n",
       "      <td>840</td>\n",
       "    </tr>\n",
       "    <tr>\n",
       "      <th>16</th>\n",
       "      <td>Atlanta</td>\n",
       "      <td>267</td>\n",
       "      <td>1150</td>\n",
       "    </tr>\n",
       "    <tr>\n",
       "      <th>17</th>\n",
       "      <td>Chicago Cubs</td>\n",
       "      <td>302</td>\n",
       "      <td>1800</td>\n",
       "    </tr>\n",
       "    <tr>\n",
       "      <th>18</th>\n",
       "      <td>Cincinnati</td>\n",
       "      <td>227</td>\n",
       "      <td>885</td>\n",
       "    </tr>\n",
       "    <tr>\n",
       "      <th>19</th>\n",
       "      <td>Colorado</td>\n",
       "      <td>214</td>\n",
       "      <td>855</td>\n",
       "    </tr>\n",
       "    <tr>\n",
       "      <th>20</th>\n",
       "      <td>Los Angeles Dodgers</td>\n",
       "      <td>403</td>\n",
       "      <td>2400</td>\n",
       "    </tr>\n",
       "    <tr>\n",
       "      <th>21</th>\n",
       "      <td>Miami</td>\n",
       "      <td>188</td>\n",
       "      <td>650</td>\n",
       "    </tr>\n",
       "    <tr>\n",
       "      <th>22</th>\n",
       "      <td>Milwaukee</td>\n",
       "      <td>226</td>\n",
       "      <td>875</td>\n",
       "    </tr>\n",
       "    <tr>\n",
       "      <th>23</th>\n",
       "      <td>New York Mets</td>\n",
       "      <td>263</td>\n",
       "      <td>1350</td>\n",
       "    </tr>\n",
       "    <tr>\n",
       "      <th>24</th>\n",
       "      <td>Philadelphia</td>\n",
       "      <td>265</td>\n",
       "      <td>1250</td>\n",
       "    </tr>\n",
       "    <tr>\n",
       "      <th>25</th>\n",
       "      <td>Pittsburgh</td>\n",
       "      <td>229</td>\n",
       "      <td>900</td>\n",
       "    </tr>\n",
       "    <tr>\n",
       "      <th>26</th>\n",
       "      <td>St. Louis</td>\n",
       "      <td>294</td>\n",
       "      <td>1400</td>\n",
       "    </tr>\n",
       "    <tr>\n",
       "      <th>27</th>\n",
       "      <td>San Diego</td>\n",
       "      <td>225</td>\n",
       "      <td>890</td>\n",
       "    </tr>\n",
       "    <tr>\n",
       "      <th>28</th>\n",
       "      <td>San Francisco</td>\n",
       "      <td>387</td>\n",
       "      <td>2000</td>\n",
       "    </tr>\n",
       "    <tr>\n",
       "      <th>29</th>\n",
       "      <td>Washington</td>\n",
       "      <td>287</td>\n",
       "      <td>1280</td>\n",
       "    </tr>\n",
       "  </tbody>\n",
       "</table>\n",
       "</div>"
      ],
      "text/plain": [
       "                   Team  Revenue  Value\n",
       "0             Baltimore      245   1000\n",
       "1                Boston      370   2100\n",
       "2     Chicago White Sox      227    975\n",
       "3             Cleveland      207    825\n",
       "4               Detroit      254   1125\n",
       "5               Houston      175    800\n",
       "6           Kansas City      231    700\n",
       "7    Los Angeles Angels      304   1300\n",
       "8             Minnesota      223    895\n",
       "9      New York Yankees      508   3200\n",
       "10              Oakland      202    725\n",
       "11              Seattle      250   1100\n",
       "12            Tampa Bay      188    625\n",
       "13                Texas      266   1220\n",
       "14              Toronto      226    870\n",
       "15              Arizona      211    840\n",
       "16              Atlanta      267   1150\n",
       "17         Chicago Cubs      302   1800\n",
       "18           Cincinnati      227    885\n",
       "19             Colorado      214    855\n",
       "20  Los Angeles Dodgers      403   2400\n",
       "21                Miami      188    650\n",
       "22            Milwaukee      226    875\n",
       "23        New York Mets      263   1350\n",
       "24         Philadelphia      265   1250\n",
       "25           Pittsburgh      229    900\n",
       "26            St. Louis      294   1400\n",
       "27            San Diego      225    890\n",
       "28        San Francisco      387   2000\n",
       "29           Washington      287   1280"
      ]
     },
     "execution_count": 75,
     "metadata": {},
     "output_type": "execute_result"
    }
   ],
   "source": [
    "#Read the baseball_values.csv file into a dataframe\n",
    "baseball = pd.read_csv('baseball_values.csv')\n",
    "baseball"
   ]
  },
  {
   "cell_type": "code",
   "execution_count": 101,
   "metadata": {},
   "outputs": [
    {
     "data": {
      "image/png": "[encoded data removed]",
      "text/plain": [
       "<Figure size 432x288 with 1 Axes>"
      ]
     },
     "metadata": {
      "needs_background": "light"
     },
     "output_type": "display_data"
    }
   ],
   "source": [
    "sns.boxplot(baseball.Value, color = 'g', whis = 3)\n",
    "plt.xlabel('Value ($mil)')\n",
    "plt.title('Value Boxplot')\n",
    "plt.annotate('New York Yankees',xy =(3000,.3), xytext=(2550,-.1), color = 'r')\n",
    "plt.show()"
   ]
  },
  {
   "cell_type": "code",
   "execution_count": 104,
   "metadata": {},
   "outputs": [
    {
     "data": {
      "image/png": "[encoded data removed]",
      "text/plain": [
       "<Figure size 432x288 with 1 Axes>"
      ]
     },
     "metadata": {
      "needs_background": "light"
     },
     "output_type": "display_data"
    }
   ],
   "source": [
    "# Create a Violin Plot\n",
    "sns.violinplot(baseball.Value, color = 'g', whis = 3)\n",
    "plt.xlabel('Value ($mil)')\n",
    "plt.title('Value Violin Plot')\n",
    "plt.show()"
   ]
  },
  {
   "cell_type": "markdown",
   "metadata": {},
   "source": [
    "The approximate mode of the data set is 1000."
   ]
  },
  {
   "cell_type": "markdown",
   "metadata": {},
   "source": [
    "### Use K-NN to classify the type of fruit"
   ]
  },
  {
   "cell_type": "code",
   "execution_count": 107,
   "metadata": {},
   "outputs": [],
   "source": [
    "# Load the fruit dataset\n",
    "fruit = pd.read_csv('fruit.tsv', sep = '\\t')\n"
   ]
  },
  {
   "cell_type": "code",
   "execution_count": 108,
   "metadata": {},
   "outputs": [
    {
     "data": {
      "text/html": [
       "<div>\n",
       "<style scoped>\n",
       "    .dataframe tbody tr th:only-of-type {\n",
       "        vertical-align: middle;\n",
       "    }\n",
       "\n",
       "    .dataframe tbody tr th {\n",
       "        vertical-align: top;\n",
       "    }\n",
       "\n",
       "    .dataframe thead th {\n",
       "        text-align: right;\n",
       "    }\n",
       "</style>\n",
       "<table border=\"1\" class=\"dataframe\">\n",
       "  <thead>\n",
       "    <tr style=\"text-align: right;\">\n",
       "      <th></th>\n",
       "      <th>fruit_label</th>\n",
       "      <th>fruit_name</th>\n",
       "      <th>fruit_subtype</th>\n",
       "      <th>mass</th>\n",
       "      <th>width</th>\n",
       "      <th>height</th>\n",
       "      <th>color_score</th>\n",
       "    </tr>\n",
       "  </thead>\n",
       "  <tbody>\n",
       "    <tr>\n",
       "      <th>0</th>\n",
       "      <td>1</td>\n",
       "      <td>apple</td>\n",
       "      <td>granny_smith</td>\n",
       "      <td>192</td>\n",
       "      <td>8.4</td>\n",
       "      <td>7.3</td>\n",
       "      <td>0.55</td>\n",
       "    </tr>\n",
       "    <tr>\n",
       "      <th>1</th>\n",
       "      <td>1</td>\n",
       "      <td>apple</td>\n",
       "      <td>granny_smith</td>\n",
       "      <td>180</td>\n",
       "      <td>8.0</td>\n",
       "      <td>6.8</td>\n",
       "      <td>0.59</td>\n",
       "    </tr>\n",
       "    <tr>\n",
       "      <th>2</th>\n",
       "      <td>1</td>\n",
       "      <td>apple</td>\n",
       "      <td>granny_smith</td>\n",
       "      <td>176</td>\n",
       "      <td>7.4</td>\n",
       "      <td>7.2</td>\n",
       "      <td>0.60</td>\n",
       "    </tr>\n",
       "    <tr>\n",
       "      <th>3</th>\n",
       "      <td>2</td>\n",
       "      <td>mandarin</td>\n",
       "      <td>mandarin</td>\n",
       "      <td>86</td>\n",
       "      <td>6.2</td>\n",
       "      <td>4.7</td>\n",
       "      <td>0.80</td>\n",
       "    </tr>\n",
       "    <tr>\n",
       "      <th>4</th>\n",
       "      <td>2</td>\n",
       "      <td>mandarin</td>\n",
       "      <td>mandarin</td>\n",
       "      <td>84</td>\n",
       "      <td>6.0</td>\n",
       "      <td>4.6</td>\n",
       "      <td>0.79</td>\n",
       "    </tr>\n",
       "  </tbody>\n",
       "</table>\n",
       "</div>"
      ],
      "text/plain": [
       "   fruit_label fruit_name fruit_subtype  mass  width  height  color_score\n",
       "0            1      apple  granny_smith   192    8.4     7.3         0.55\n",
       "1            1      apple  granny_smith   180    8.0     6.8         0.59\n",
       "2            1      apple  granny_smith   176    7.4     7.2         0.60\n",
       "3            2   mandarin      mandarin    86    6.2     4.7         0.80\n",
       "4            2   mandarin      mandarin    84    6.0     4.6         0.79"
      ]
     },
     "execution_count": 108,
     "metadata": {},
     "output_type": "execute_result"
    }
   ],
   "source": [
    "# Show the first 5 rows\n",
    "fruit.head()"
   ]
  },
  {
   "cell_type": "code",
   "execution_count": 113,
   "metadata": {},
   "outputs": [
    {
     "data": {
      "text/html": [
       "<div>\n",
       "<style scoped>\n",
       "    .dataframe tbody tr th:only-of-type {\n",
       "        vertical-align: middle;\n",
       "    }\n",
       "\n",
       "    .dataframe tbody tr th {\n",
       "        vertical-align: top;\n",
       "    }\n",
       "\n",
       "    .dataframe thead th {\n",
       "        text-align: right;\n",
       "    }\n",
       "</style>\n",
       "<table border=\"1\" class=\"dataframe\">\n",
       "  <thead>\n",
       "    <tr style=\"text-align: right;\">\n",
       "      <th></th>\n",
       "      <th>fruit_label</th>\n",
       "      <th>fruit_subtype</th>\n",
       "      <th>mass</th>\n",
       "      <th>width</th>\n",
       "      <th>height</th>\n",
       "      <th>color_score</th>\n",
       "    </tr>\n",
       "    <tr>\n",
       "      <th>fruit_name</th>\n",
       "      <th></th>\n",
       "      <th></th>\n",
       "      <th></th>\n",
       "      <th></th>\n",
       "      <th></th>\n",
       "      <th></th>\n",
       "    </tr>\n",
       "  </thead>\n",
       "  <tbody>\n",
       "    <tr>\n",
       "      <th>apple</th>\n",
       "      <td>19</td>\n",
       "      <td>19</td>\n",
       "      <td>19</td>\n",
       "      <td>19</td>\n",
       "      <td>19</td>\n",
       "      <td>19</td>\n",
       "    </tr>\n",
       "    <tr>\n",
       "      <th>lemon</th>\n",
       "      <td>16</td>\n",
       "      <td>16</td>\n",
       "      <td>16</td>\n",
       "      <td>16</td>\n",
       "      <td>16</td>\n",
       "      <td>16</td>\n",
       "    </tr>\n",
       "    <tr>\n",
       "      <th>mandarin</th>\n",
       "      <td>5</td>\n",
       "      <td>5</td>\n",
       "      <td>5</td>\n",
       "      <td>5</td>\n",
       "      <td>5</td>\n",
       "      <td>5</td>\n",
       "    </tr>\n",
       "    <tr>\n",
       "      <th>orange</th>\n",
       "      <td>19</td>\n",
       "      <td>19</td>\n",
       "      <td>19</td>\n",
       "      <td>19</td>\n",
       "      <td>19</td>\n",
       "      <td>19</td>\n",
       "    </tr>\n",
       "  </tbody>\n",
       "</table>\n",
       "</div>"
      ],
      "text/plain": [
       "            fruit_label  fruit_subtype  mass  width  height  color_score\n",
       "fruit_name                                                              \n",
       "apple                19             19    19     19      19           19\n",
       "lemon                16             16    16     16      16           16\n",
       "mandarin              5              5     5      5       5            5\n",
       "orange               19             19    19     19      19           19"
      ]
     },
     "execution_count": 113,
     "metadata": {},
     "output_type": "execute_result"
    }
   ],
   "source": [
    "fruit.groupby(fruit['fruit_name']).count()"
   ]
  },
  {
   "cell_type": "code",
   "execution_count": 115,
   "metadata": {},
   "outputs": [],
   "source": [
    "fruit1 = fruit[['fruit_name','mass','width','height','color_score']]"
   ]
  },
  {
   "cell_type": "code",
   "execution_count": 148,
   "metadata": {},
   "outputs": [
    {
     "data": {
      "image/png": "[encoded data removed]",
      "text/plain": [
       "<Figure size 804x720 with 20 Axes>"
      ]
     },
     "metadata": {
      "needs_background": "light"
     },
     "output_type": "display_data"
    }
   ],
   "source": [
    "sns.pairplot(fruit1, hue='fruit_name')\n",
    "plt.subplots_adjust(top=0.95)\n",
    "plt.suptitle('Fruit Scatter Matrix')\n",
    "plt.show()"
   ]
  },
  {
   "cell_type": "markdown",
   "metadata": {},
   "source": [
    "I do not think that mass or height would be a good predictor of fruit_name since the data seems to have a large amount of overlap between the various fruit names."
   ]
  },
  {
   "cell_type": "code",
   "execution_count": 155,
   "metadata": {},
   "outputs": [],
   "source": [
    "#Assign Fruit_name as dependent variable and all other as independent variables\n",
    "x = fruit1[['mass','width', 'height','color_score']]\n",
    "y = fruit['fruit_name']"
   ]
  },
  {
   "cell_type": "code",
   "execution_count": 156,
   "metadata": {},
   "outputs": [],
   "source": [
    "#Split the data in training and test sets\n",
    "x_train, x_test, y_train, y_test = train_test_split(x, y, test_size=0.3, random_state = 0)"
   ]
  },
  {
   "cell_type": "code",
   "execution_count": 157,
   "metadata": {},
   "outputs": [
    {
     "name": "stdout",
     "output_type": "stream",
     "text": [
      "             mass      width     height  color_score\n",
      "count   41.000000  41.000000  41.000000    41.000000\n",
      "mean   160.878049   7.058537   7.682927     0.758049\n",
      "std     53.607926   0.842608   1.236710     0.076034\n",
      "min     80.000000   5.800000   4.300000     0.550000\n",
      "25%    130.000000   6.200000   7.300000     0.720000\n",
      "50%    158.000000   7.200000   7.600000     0.750000\n",
      "75%    172.000000   7.500000   8.200000     0.810000\n",
      "max    356.000000   9.200000  10.500000     0.920000\n",
      "             mass      width     height  color_score\n",
      "count   18.000000  18.000000  18.000000    18.000000\n",
      "mean   168.222222   7.211111   7.716667     0.773889\n",
      "std     59.380682   0.767646   1.649331     0.079789\n",
      "min     76.000000   5.800000   4.000000     0.600000\n",
      "25%    144.000000   7.100000   7.200000     0.725000\n",
      "50%    162.000000   7.200000   7.550000     0.765000\n",
      "75%    179.000000   7.375000   8.175000     0.805000\n",
      "max    362.000000   9.600000  10.300000     0.930000\n"
     ]
    }
   ],
   "source": [
    "#Print summary statistics for train and test independent variables\n",
    "print(x_train.describe())\n",
    "print(x_test.describe())"
   ]
  },
  {
   "cell_type": "code",
   "execution_count": 161,
   "metadata": {},
   "outputs": [],
   "source": [
    "#Build and train the K-NN model wiht 5NN\n",
    "classifier = KNeighborsClassifier(n_neighbors=5)  \n",
    "classifier.fit(x_train, y_train)\n",
    "y_pred = classifier.predict(x_test) "
   ]
  },
  {
   "cell_type": "code",
   "execution_count": 162,
   "metadata": {},
   "outputs": [
    {
     "name": "stdout",
     "output_type": "stream",
     "text": [
      "[[3 1 0 0]\n",
      " [1 2 0 0]\n",
      " [0 0 2 0]\n",
      " [4 3 0 2]]\n"
     ]
    }
   ],
   "source": [
    "#Print confusion Matrix\n",
    "conf = metrics.confusion_matrix(y_test, y_pred)\n",
    "print(conf)"
   ]
  },
  {
   "cell_type": "code",
   "execution_count": 166,
   "metadata": {},
   "outputs": [
    {
     "name": "stdout",
     "output_type": "stream",
     "text": [
      "0.5\n"
     ]
    }
   ],
   "source": [
    "# Print model accuracy rate\n",
    "acc = metrics.accuracy_score(y_test, y_pred)\n",
    "print(acc)"
   ]
  }
 ],
 "metadata": {
  "kernelspec": {
   "display_name": "Python 3",
   "language": "python",
   "name": "python3"
  },
  "language_info": {
   "codemirror_mode": {
    "name": "ipython",
    "version": 3
   },
   "file_extension": ".py",
   "mimetype": "text/x-python",
   "name": "python",
   "nbconvert_exporter": "python",
   "pygments_lexer": "ipython3",
   "version": "3.7.6"
  }
 },
 "nbformat": 4,
 "nbformat_minor": 4
}
